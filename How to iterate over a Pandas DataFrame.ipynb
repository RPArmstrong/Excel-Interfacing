{
 "cells": [
  {
   "cell_type": "markdown",
   "metadata": {},
   "source": [
    "# How to loop / iterate over rows in pandas DataFrame\n",
    "Check out the YouTube video that explains this topic: https://youtu.be/CG3EV7UBELA"
   ]
  },
  {
   "cell_type": "code",
   "execution_count": 13,
   "metadata": {},
   "outputs": [],
   "source": [
    "import pandas as pd\n",
    "import numpy as np"
   ]
  },
  {
   "cell_type": "markdown",
   "metadata": {},
   "source": [
    "Create a dataset with 10,000 rows of random values between 0 and 1"
   ]
  },
  {
   "cell_type": "code",
   "execution_count": 2,
   "metadata": {},
   "outputs": [],
   "source": [
    "df = pd.DataFrame(np.random.rand(10000,5), columns=('A','B','C','D','E'))"
   ]
  },
  {
   "cell_type": "code",
   "execution_count": 3,
   "metadata": {},
   "outputs": [
    {
     "data": {
      "text/html": [
       "<div><div id=7aa85488-1ebc-4d2c-92ff-e88d10754000 style=\"display:none; background-color:#9D6CFF; color:white; width:200px; height:30px; padding-left:5px; border-radius:4px; flex-direction:row; justify-content:space-around; align-items:center;\" onmouseover=\"this.style.backgroundColor='#BA9BF8'\" onmouseout=\"this.style.backgroundColor='#9D6CFF'\" onclick=\"window.commands?.execute('create-mitosheet-from-dataframe-output');\">See Full Dataframe in Mito</div> <script> if (window.commands.hasCommand('create-mitosheet-from-dataframe-output')) document.getElementById('7aa85488-1ebc-4d2c-92ff-e88d10754000').style.display = 'flex' </script> <table border=\"1\" class=\"dataframe\">\n",
       "  <thead>\n",
       "    <tr style=\"text-align: right;\">\n",
       "      <th></th>\n",
       "      <th>A</th>\n",
       "      <th>B</th>\n",
       "      <th>C</th>\n",
       "      <th>D</th>\n",
       "      <th>E</th>\n",
       "    </tr>\n",
       "  </thead>\n",
       "  <tbody>\n",
       "    <tr>\n",
       "      <th>count</th>\n",
       "      <td>10000.000000</td>\n",
       "      <td>10000.000000</td>\n",
       "      <td>10000.000000</td>\n",
       "      <td>10000.000000</td>\n",
       "      <td>10000.000000</td>\n",
       "    </tr>\n",
       "    <tr>\n",
       "      <th>mean</th>\n",
       "      <td>0.495875</td>\n",
       "      <td>0.501159</td>\n",
       "      <td>0.505672</td>\n",
       "      <td>0.498235</td>\n",
       "      <td>0.500371</td>\n",
       "    </tr>\n",
       "    <tr>\n",
       "      <th>std</th>\n",
       "      <td>0.287760</td>\n",
       "      <td>0.288535</td>\n",
       "      <td>0.288424</td>\n",
       "      <td>0.289690</td>\n",
       "      <td>0.288282</td>\n",
       "    </tr>\n",
       "    <tr>\n",
       "      <th>min</th>\n",
       "      <td>0.000085</td>\n",
       "      <td>0.000168</td>\n",
       "      <td>0.000319</td>\n",
       "      <td>0.000061</td>\n",
       "      <td>0.000745</td>\n",
       "    </tr>\n",
       "    <tr>\n",
       "      <th>25%</th>\n",
       "      <td>0.245046</td>\n",
       "      <td>0.248718</td>\n",
       "      <td>0.256635</td>\n",
       "      <td>0.247238</td>\n",
       "      <td>0.251909</td>\n",
       "    </tr>\n",
       "    <tr>\n",
       "      <th>50%</th>\n",
       "      <td>0.495213</td>\n",
       "      <td>0.502304</td>\n",
       "      <td>0.503737</td>\n",
       "      <td>0.497515</td>\n",
       "      <td>0.501265</td>\n",
       "    </tr>\n",
       "    <tr>\n",
       "      <th>75%</th>\n",
       "      <td>0.747351</td>\n",
       "      <td>0.748981</td>\n",
       "      <td>0.758579</td>\n",
       "      <td>0.749634</td>\n",
       "      <td>0.749646</td>\n",
       "    </tr>\n",
       "    <tr>\n",
       "      <th>max</th>\n",
       "      <td>0.999935</td>\n",
       "      <td>0.999993</td>\n",
       "      <td>0.999920</td>\n",
       "      <td>0.999729</td>\n",
       "      <td>0.999960</td>\n",
       "    </tr>\n",
       "  </tbody>\n",
       "</table></div>"
      ],
      "text/plain": [
       "                  A             B             C             D             E\n",
       "count  10000.000000  10000.000000  10000.000000  10000.000000  10000.000000\n",
       "mean       0.495875      0.501159      0.505672      0.498235      0.500371\n",
       "std        0.287760      0.288535      0.288424      0.289690      0.288282\n",
       "min        0.000085      0.000168      0.000319      0.000061      0.000745\n",
       "25%        0.245046      0.248718      0.256635      0.247238      0.251909\n",
       "50%        0.495213      0.502304      0.503737      0.497515      0.501265\n",
       "75%        0.747351      0.748981      0.758579      0.749634      0.749646\n",
       "max        0.999935      0.999993      0.999920      0.999729      0.999960"
      ]
     },
     "execution_count": 3,
     "metadata": {},
     "output_type": "execute_result"
    }
   ],
   "source": [
    "df.describe()"
   ]
  },
  {
   "cell_type": "markdown",
   "metadata": {},
   "source": [
    "## iterrow"
   ]
  },
  {
   "cell_type": "markdown",
   "metadata": {},
   "source": [
    "The iterrow method is probably the most intuiative method for iterating over a DataFrame (df). It will return the index and the row of the df. <br>\n",
    "Below we create a function that loops over each row of the df and replaces values that are less than 0.5 as 0 and everything else as 1. <br>\n",
    "i = the index position <br>\n",
    "row = the row data contained at current index location <br>\n",
    "You can also try .itertuples() which is slightly faster than iterrow. I'm not going to show it in this project. "
   ]
  },
  {
   "cell_type": "markdown",
   "metadata": {},
   "source": [
    "First let's see exactly what i and row returns. Let's look at the first 5 iterations. "
   ]
  },
  {
   "cell_type": "code",
   "execution_count": 4,
   "metadata": {},
   "outputs": [
    {
     "name": "stdout",
     "output_type": "stream",
     "text": [
      "i = 0\n",
      "\n",
      "Returned Row:\n",
      "A    0.532558\n",
      "B    0.247751\n",
      "C    0.346707\n",
      "D    0.738579\n",
      "E    0.746897\n",
      "Name: 0, dtype: float64\n",
      "\n",
      "Column B: 0.24775090146495138\n",
      "<----------------------------------->\n",
      "\n",
      "i = 1\n",
      "\n",
      "Returned Row:\n",
      "A    0.524584\n",
      "B    0.817626\n",
      "C    0.112106\n",
      "D    0.983873\n",
      "E    0.294330\n",
      "Name: 1, dtype: float64\n",
      "\n",
      "Column B: 0.8176263503638649\n",
      "<----------------------------------->\n",
      "\n",
      "i = 2\n",
      "\n",
      "Returned Row:\n",
      "A    0.762473\n",
      "B    0.718644\n",
      "C    0.976873\n",
      "D    0.043585\n",
      "E    0.080178\n",
      "Name: 2, dtype: float64\n",
      "\n",
      "Column B: 0.7186444081269067\n",
      "<----------------------------------->\n",
      "\n"
     ]
    }
   ],
   "source": [
    "for i, row in df.iterrows():\n",
    "    while i < 3:\n",
    "        print(f'i = {i}')\n",
    "        print('')\n",
    "        print('Returned Row:')\n",
    "        print(row)\n",
    "        print('')\n",
    "        print(f\"Column B: {row['B']}\")\n",
    "        print(\"<----------------------------------->\")\n",
    "        print('')\n",
    "        break       "
   ]
  },
  {
   "cell_type": "markdown",
   "metadata": {},
   "source": [
    "If we compare the first three rows returned with df.iterrows to the first three rows from df.head(3) we see they are the same :)"
   ]
  },
  {
   "cell_type": "code",
   "execution_count": 5,
   "metadata": {},
   "outputs": [
    {
     "data": {
      "text/html": [
       "<div><div id=729c80eb-50f5-4be8-9fee-c37b5ebc9d1d style=\"display:none; background-color:#9D6CFF; color:white; width:200px; height:30px; padding-left:5px; border-radius:4px; flex-direction:row; justify-content:space-around; align-items:center;\" onmouseover=\"this.style.backgroundColor='#BA9BF8'\" onmouseout=\"this.style.backgroundColor='#9D6CFF'\" onclick=\"window.commands?.execute('create-mitosheet-from-dataframe-output');\">See Full Dataframe in Mito</div> <script> if (window.commands.hasCommand('create-mitosheet-from-dataframe-output')) document.getElementById('729c80eb-50f5-4be8-9fee-c37b5ebc9d1d').style.display = 'flex' </script> <table border=\"1\" class=\"dataframe\">\n",
       "  <thead>\n",
       "    <tr style=\"text-align: right;\">\n",
       "      <th></th>\n",
       "      <th>A</th>\n",
       "      <th>B</th>\n",
       "      <th>C</th>\n",
       "      <th>D</th>\n",
       "      <th>E</th>\n",
       "    </tr>\n",
       "  </thead>\n",
       "  <tbody>\n",
       "    <tr>\n",
       "      <th>0</th>\n",
       "      <td>0.532558</td>\n",
       "      <td>0.247751</td>\n",
       "      <td>0.346707</td>\n",
       "      <td>0.738579</td>\n",
       "      <td>0.746897</td>\n",
       "    </tr>\n",
       "    <tr>\n",
       "      <th>1</th>\n",
       "      <td>0.524584</td>\n",
       "      <td>0.817626</td>\n",
       "      <td>0.112106</td>\n",
       "      <td>0.983873</td>\n",
       "      <td>0.294330</td>\n",
       "    </tr>\n",
       "    <tr>\n",
       "      <th>2</th>\n",
       "      <td>0.762473</td>\n",
       "      <td>0.718644</td>\n",
       "      <td>0.976873</td>\n",
       "      <td>0.043585</td>\n",
       "      <td>0.080178</td>\n",
       "    </tr>\n",
       "  </tbody>\n",
       "</table></div>"
      ],
      "text/plain": [
       "          A         B         C         D         E\n",
       "0  0.532558  0.247751  0.346707  0.738579  0.746897\n",
       "1  0.524584  0.817626  0.112106  0.983873  0.294330\n",
       "2  0.762473  0.718644  0.976873  0.043585  0.080178"
      ]
     },
     "execution_count": 5,
     "metadata": {},
     "output_type": "execute_result"
    }
   ],
   "source": [
    "df.head(3)"
   ]
  },
  {
   "cell_type": "code",
   "execution_count": 6,
   "metadata": {},
   "outputs": [],
   "source": [
    "def iterrow_example(df, col):\n",
    "    for i, row in df.iterrows():\n",
    "        val = row[col]\n",
    "        if val < .5:\n",
    "            df.at[i,col] = 0     \n",
    "        else:\n",
    "            df.at[i,col] = 1    "
   ]
  },
  {
   "cell_type": "markdown",
   "metadata": {},
   "source": [
    "Here we use the magic method timeit to let us know how long it takes to execute the line of code <br>\n",
    "We allso call the iterrow_example function <br>\n",
    "In this example I got 553 ms ± 8.24 ms (If you execute this code it may be different for you, but the patterns bellow should hold)"
   ]
  },
  {
   "cell_type": "code",
   "execution_count": 7,
   "metadata": {},
   "outputs": [
    {
     "name": "stdout",
     "output_type": "stream",
     "text": [
      "423 ms ± 23.7 ms per loop (mean ± std. dev. of 7 runs, 1 loop each)\n"
     ]
    }
   ],
   "source": [
    "%timeit iterrow_example(df, 'A')"
   ]
  },
  {
   "cell_type": "markdown",
   "metadata": {},
   "source": [
    "## pd.loc[] / pd.iloc[]"
   ]
  },
  {
   "cell_type": "markdown",
   "metadata": {},
   "source": [
    "Another way we can loop over the rows of a df is to use pd.loc or pd.iloc. <br>\n",
    "We create a function below to iterate over the df and then we call it. "
   ]
  },
  {
   "cell_type": "code",
   "execution_count": 8,
   "metadata": {},
   "outputs": [],
   "source": [
    "def iloc_test(df, col):\n",
    "    for i in df.index:\n",
    "        val = df[col].iloc[i]\n",
    "        if val < .5:\n",
    "            df.at[i,col] = 0     \n",
    "        else:\n",
    "            df.at[i,col] = 1    "
   ]
  },
  {
   "cell_type": "markdown",
   "metadata": {},
   "source": [
    "In this example I got a time of 178 ms ± 1.65 ms. 3 times faster. Nice :), but wait... we can do better. "
   ]
  },
  {
   "cell_type": "code",
   "execution_count": 9,
   "metadata": {},
   "outputs": [
    {
     "name": "stdout",
     "output_type": "stream",
     "text": [
      "161 ms ± 19.1 ms per loop (mean ± std. dev. of 7 runs, 10 loops each)\n"
     ]
    }
   ],
   "source": [
    "%timeit iloc_test(df, 'B')"
   ]
  },
  {
   "cell_type": "markdown",
   "metadata": {},
   "source": [
    "## apply with lambda"
   ]
  },
  {
   "cell_type": "markdown",
   "metadata": {},
   "source": [
    "Here we use the .apply method with a lambda function to get even better performance. <br>\n",
    "In this example I got 3.51 ms ± 216 µs. <br>\n",
    "That's over 50 times faster than our previous best with pd.iloc! <br>\n",
    "LET'S GO FASTER!!!"
   ]
  },
  {
   "cell_type": "code",
   "execution_count": 10,
   "metadata": {},
   "outputs": [
    {
     "name": "stdout",
     "output_type": "stream",
     "text": [
      "2.54 ms ± 46.8 µs per loop (mean ± std. dev. of 7 runs, 100 loops each)\n"
     ]
    }
   ],
   "source": [
    "%timeit df['C'] = df['C'].apply(lambda x : 0 if x < .5 else 1)"
   ]
  },
  {
   "cell_type": "markdown",
   "metadata": {},
   "source": [
    "## np.where()"
   ]
  },
  {
   "cell_type": "markdown",
   "metadata": {},
   "source": [
    "https://www.youtube.com/watch?v=nxWginnBklU\n",
    "\n",
    "np.where(\n",
    "    conditional statment -> bool array, \n",
    "    series/array/function()/scalar if true,\n",
    "    series/array/function()/scalar if False\n",
    ")"
   ]
  },
  {
   "cell_type": "markdown",
   "metadata": {},
   "source": [
    "Here we use the np.where method where we pass in our entire column of data with the condition we are testing for. Then we pass in the value we want if the condition is true and the value if the condition is false. \n",
    "\n",
    "223 µs ± 13.4 µs! 16 times faster than our previous best with .apply() <br>\n",
    "Can we go any faster? Yup!"
   ]
  },
  {
   "cell_type": "code",
   "execution_count": 11,
   "metadata": {},
   "outputs": [
    {
     "name": "stdout",
     "output_type": "stream",
     "text": [
      "180 µs ± 3.38 µs per loop (mean ± std. dev. of 7 runs, 10000 loops each)\n"
     ]
    }
   ],
   "source": [
    "%timeit df['D'] = np.where(df['D'] < .5, 0, 1)"
   ]
  },
  {
   "cell_type": "markdown",
   "metadata": {},
   "source": [
    "When can squeeze out a little more performance by converting our pandas series into a numpy array by using .values\n",
    "\n",
    "93.2 µs ± 527 ns <br>\n",
    "Over 2 times speed up from our previous best and almost 6,000 times faster than df.iterrows. <br>\n",
    "These numbers are relative though. With a smaller amount of data the differences wouldn't be as big, but with larger datasets the differences would be even more exaggerated. "
   ]
  },
  {
   "cell_type": "code",
   "execution_count": 12,
   "metadata": {},
   "outputs": [
    {
     "name": "stdout",
     "output_type": "stream",
     "text": [
      "97.8 µs ± 1.96 µs per loop (mean ± std. dev. of 7 runs, 10000 loops each)\n"
     ]
    }
   ],
   "source": [
    "%timeit df['E'] = np.where(df['E'].values < .5, 0, 1)"
   ]
  },
  {
   "cell_type": "markdown",
   "metadata": {},
   "source": [
    "If you have elif conditions thne use numpy.select instead. <br>\n",
    "conditions can be chained ((df[col ==no]) & (df['Providers']==0)) <br>\n",
    "\n",
    "```python\n",
    "conditions = [] # List all the conditions \n",
    "choices = [] # List all of the options\n",
    "df[col] = np.select(conditions, choices, default='NA') \n",
    "```\n",
    "\n",
    " "
   ]
  },
  {
   "cell_type": "markdown",
   "metadata": {},
   "source": [
    "## References"
   ]
  },
  {
   "cell_type": "markdown",
   "metadata": {},
   "source": [
    "**YouTube Videos (Pycon Talks)** <br>\n",
    "1000x faster data manipulation: vectorizing with Pandas and Numpy <br>\n",
    "https://www.youtube.com/watch?v=nxWginnBklU\n",
    "\n",
    "Sofia Heisler No more sad pandas optimizing pandas code for speed and efficiency PyCon 2017 <br>\n",
    "https://www.youtube.com/watch?v=HN5d490_KKk&feature=youtu.be <br>\n",
    "<br>\n",
    "<br>\n",
    "**Articles** <br>\n",
    "Optimum approach for iterating over a DataFrame <br>\n",
    "https://medium.com/@rtjeannier/pandas-101-cont-9d061cb73bfc\n",
    "\n",
    "Crude looping in Pandas, or That Thing You Should Never Ever Do <br>\n",
    "https://engineering.upside.com/a-beginners-guide-to-optimizing-pandas-code-for-speed-c09ef2c6a4d6 \n"
   ]
  }
 ],
 "metadata": {
  "kernelspec": {
   "display_name": "Python 3 (ipykernel)",
   "language": "python",
   "name": "python3"
  },
  "language_info": {
   "codemirror_mode": {
    "name": "ipython",
    "version": 3
   },
   "file_extension": ".py",
   "mimetype": "text/x-python",
   "name": "python",
   "nbconvert_exporter": "python",
   "pygments_lexer": "ipython3",
   "version": "3.9.7"
  }
 },
 "nbformat": 4,
 "nbformat_minor": 4
}
