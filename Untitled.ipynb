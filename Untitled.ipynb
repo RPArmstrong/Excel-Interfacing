{
 "cells": [
  {
   "cell_type": "code",
   "execution_count": 2,
   "id": "96d65588-7c01-4061-a4de-4fe87f79d6d6",
   "metadata": {},
   "outputs": [],
   "source": [
    "import numpy as np\n",
    "import pandas as pd\n",
    "import matplotlib.pyplot as plt\n",
    "span_in=np.zeros([2,2])"
   ]
  },
  {
   "cell_type": "code",
   "execution_count": 37,
   "id": "22383029-cb3e-4508-805a-df45dafb1caf",
   "metadata": {},
   "outputs": [],
   "source": [
    "def span(span_in, in_hi, in_lo, out_hi, out_lo):\n",
    "    span_out=abs(span_in*(out_hi-out_lo)/(in_hi-in_lo))\n",
    "    print(span_out)\n",
    "    return span_out"
   ]
  },
  {
   "cell_type": "code",
   "execution_count": 38,
   "id": "1b529670-d84d-409e-bd2b-ffe109806dd5",
   "metadata": {},
   "outputs": [],
   "source": [
    "in_hi=130\n",
    "in_lo=110\n",
    "out_hi=30\n",
    "out_lo=60\n",
    "in_hi1=60\n",
    "in_lo1=110\n",
    "out_hi1=125\n",
    "out_lo1=30\n",
    "span_in=125"
   ]
  },
  {
   "cell_type": "code",
   "execution_count": 39,
   "id": "373e0bfa-4511-48f4-bb98-1c9354ddceeb",
   "metadata": {},
   "outputs": [
    {
     "data": {
      "text/plain": [
       "37.5"
      ]
     },
     "execution_count": 39,
     "metadata": {},
     "output_type": "execute_result"
    }
   ],
   "source": [
    "xp = [110,130]\n",
    "fp = [60,30]\n",
    "input=125\n",
    "out1=np.interp(input, xp, fp)\n",
    "out1"
   ]
  },
  {
   "cell_type": "code",
   "execution_count": 40,
   "id": "639300c7-964a-4a43-91f9-eafcd73d87c7",
   "metadata": {},
   "outputs": [
    {
     "data": {
      "text/plain": [
       "30.0"
      ]
     },
     "execution_count": 40,
     "metadata": {},
     "output_type": "execute_result"
    }
   ],
   "source": [
    "xp = [110,125]\n",
    "fp = [60,30]\n",
    "input=125\n",
    "out1=np.interp(input, xp, fp)\n",
    "out1"
   ]
  },
  {
   "cell_type": "code",
   "execution_count": 41,
   "id": "2a21e71a-17b7-4e90-ba7a-aff2dd4e0c04",
   "metadata": {},
   "outputs": [
    {
     "data": {
      "text/plain": [
       "31.160000000000004"
      ]
     },
     "execution_count": 41,
     "metadata": {},
     "output_type": "execute_result"
    }
   ],
   "source": [
    "xp = [0,100]\n",
    "fp = [18.8,60]\n",
    "out2a=np.interp(out1, xp, fp)\n",
    "out2a"
   ]
  },
  {
   "cell_type": "code",
   "execution_count": 42,
   "id": "124e67b8-e060-48e7-9b4f-0bd6ae199671",
   "metadata": {},
   "outputs": [
    {
     "data": {
      "text/plain": [
       "51.933333333333344"
      ]
     },
     "execution_count": 42,
     "metadata": {},
     "output_type": "execute_result"
    }
   ],
   "source": [
    "spd2a=out2a/60\n",
    "spd2a*100"
   ]
  },
  {
   "cell_type": "code",
   "execution_count": 46,
   "id": "2d1de5a7-227e-4f0c-b90b-5778ce888ec7",
   "metadata": {},
   "outputs": [
    {
     "data": {
      "text/plain": [
       "0.5708333333333333"
      ]
     },
     "execution_count": 46,
     "metadata": {},
     "output_type": "execute_result"
    }
   ],
   "source": [
    "xp = [110,130]\n",
    "fp = [60,30]\n",
    "input=125\n",
    "out1=np.interp(input, xp, fp)\n",
    "\n",
    "xp = [0,100]\n",
    "fp = [18.8,60]\n",
    "out2b=np.interp(out1, xp, fp)\n",
    "out2b\n",
    "spd2b=out2b/60\n",
    "spd2b"
   ]
  },
  {
   "cell_type": "code",
   "execution_count": 47,
   "id": "a081f424-0dd8-4847-a520-2af9602654b1",
   "metadata": {},
   "outputs": [
    {
     "data": {
      "text/plain": [
       "-8.224837104259981"
      ]
     },
     "execution_count": 47,
     "metadata": {},
     "output_type": "execute_result"
    }
   ],
   "source": [
    "10*((spd2a)**3-(spd2b)**3)*.746*24"
   ]
  },
  {
   "cell_type": "code",
   "execution_count": 48,
   "id": "ba2b38e2-97cb-4ffa-8880-f8735155a0d2",
   "metadata": {},
   "outputs": [
    {
     "data": {
      "text/plain": [
       "1.3279734137895494"
      ]
     },
     "execution_count": 48,
     "metadata": {},
     "output_type": "execute_result"
    }
   ],
   "source": [
    "(spd2b/spd2a)**3"
   ]
  },
  {
   "cell_type": "code",
   "execution_count": 49,
   "id": "15ffc560-8843-45b8-8deb-ced8472b856a",
   "metadata": {},
   "outputs": [
    {
     "ename": "SyntaxError",
     "evalue": "invalid syntax (Temp/ipykernel_15080/3364446946.py, line 1)",
     "output_type": "error",
     "traceback": [
      "\u001b[1;36m  File \u001b[1;32m\"C:\\Users\\RPArm\\AppData\\Local\\Temp/ipykernel_15080/3364446946.py\"\u001b[1;36m, line \u001b[1;32m1\u001b[0m\n\u001b[1;33m    span(span_in, in_hi, in_lo, out_hi, out_lo)xp = [1, 2, 3]\u001b[0m\n\u001b[1;37m                                               ^\u001b[0m\n\u001b[1;31mSyntaxError\u001b[0m\u001b[1;31m:\u001b[0m invalid syntax\n"
     ]
    }
   ],
   "source": [
    "span(span_in, in_hi, in_lo, out_hi, out_lo)xp = [1, 2, 3]\n",
    "\n",
    "fp = [3, 2, 0]\n",
    "\n",
    "np.interp(2.5, xp, fp)"
   ]
  },
  {
   "cell_type": "code",
   "execution_count": 34,
   "id": "004ac380-286d-4cfb-ae8b-fde283a93cd5",
   "metadata": {},
   "outputs": [
    {
     "name": "stdout",
     "output_type": "stream",
     "text": [
      "541.0174418604652\n",
      "467.90697674418607\n"
     ]
    },
    {
     "data": {
      "text/plain": [
       "470.6851744186047"
      ]
     },
     "execution_count": 34,
     "metadata": {},
     "output_type": "execute_result"
    }
   ],
   "source": [
    "gpmphz=503/34.4\n",
    "print(gpmphz*37)\n",
    "print(gpmphz*32)\n",
    "541.0174418604652*(1-.13)"
   ]
  },
  {
   "cell_type": "code",
   "execution_count": 83,
   "id": "7e18338a-4d3b-4d61-9b5c-020fb05c2ba4",
   "metadata": {},
   "outputs": [],
   "source": [
    "x=pd.Series([in_hi,in_lo], index=[\"in_hi\",\"in_lo\"])\n",
    "y=pd.Series([out_hi,out_lo], index=[\"out_hi\",\"out_lo\"])"
   ]
  },
  {
   "cell_type": "code",
   "execution_count": 84,
   "id": "5c3f9770-a7a5-40fa-b33a-becd4d411bb7",
   "metadata": {},
   "outputs": [],
   "source": [
    "x1=pd.Series([in_hi1,in_lo1], index=[\"in_hi\",\"in_lo\"])\n",
    "y1=pd.Series([out_hi1,out_lo1], index=[\"out_hi\",\"out_lo\"])"
   ]
  },
  {
   "cell_type": "code",
   "execution_count": 85,
   "id": "d8e2688d-84f2-4a17-96e6-9aa6d8510f1d",
   "metadata": {},
   "outputs": [
    {
     "data": {
      "text/plain": [
       "[<matplotlib.lines.Line2D at 0x1e6a1ec8f10>,\n",
       " <matplotlib.lines.Line2D at 0x1e6a1ec8f40>]"
      ]
     },
     "execution_count": 85,
     "metadata": {},
     "output_type": "execute_result"
    },
    {
     "data": {
      "image/png": "[encoded data removed]",
      "text/plain": [
       "<Figure size 432x288 with 1 Axes>"
      ]
     },
     "metadata": {
      "needs_background": "light"
     },
     "output_type": "display_data"
    }
   ],
   "source": [
    "plt.plot(x,y,x1,y1)"
   ]
  },
  {
   "cell_type": "code",
   "execution_count": null,
   "id": "26699fd0-d1f1-46c2-8499-7cb376ee1f1e",
   "metadata": {},
   "outputs": [],
   "source": []
  }
 ],
 "metadata": {
  "kernelspec": {
   "display_name": "Python 3 (ipykernel)",
   "language": "python",
   "name": "python3"
  },
  "language_info": {
   "codemirror_mode": {
    "name": "ipython",
    "version": 3
   },
   "file_extension": ".py",
   "mimetype": "text/x-python",
   "name": "python",
   "nbconvert_exporter": "python",
   "pygments_lexer": "ipython3",
   "version": "3.9.7"
  }
 },
 "nbformat": 4,
 "nbformat_minor": 5
}
